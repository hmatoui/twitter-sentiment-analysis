{
 "cells": [
  {
   "cell_type": "code",
   "execution_count": 5,
   "id": "939d731b",
   "metadata": {},
   "outputs": [
    {
     "data": {
      "text/html": [
       "<div>\n",
       "<style scoped>\n",
       "    .dataframe tbody tr th:only-of-type {\n",
       "        vertical-align: middle;\n",
       "    }\n",
       "\n",
       "    .dataframe tbody tr th {\n",
       "        vertical-align: top;\n",
       "    }\n",
       "\n",
       "    .dataframe thead th {\n",
       "        text-align: right;\n",
       "    }\n",
       "</style>\n",
       "<table border=\"1\" class=\"dataframe\">\n",
       "  <thead>\n",
       "    <tr style=\"text-align: right;\">\n",
       "      <th></th>\n",
       "      <th>target</th>\n",
       "      <th>id</th>\n",
       "      <th>date</th>\n",
       "      <th>flag</th>\n",
       "      <th>user</th>\n",
       "      <th>text</th>\n",
       "    </tr>\n",
       "  </thead>\n",
       "  <tbody>\n",
       "    <tr>\n",
       "      <th>0</th>\n",
       "      <td>0</td>\n",
       "      <td>1467810369</td>\n",
       "      <td>Mon Apr 06 22:19:45 PDT 2009</td>\n",
       "      <td>NO_QUERY</td>\n",
       "      <td>_TheSpecialOne_</td>\n",
       "      <td>@switchfoot http://twitpic.com/2y1zl - Awww, t...</td>\n",
       "    </tr>\n",
       "    <tr>\n",
       "      <th>1</th>\n",
       "      <td>0</td>\n",
       "      <td>1467810672</td>\n",
       "      <td>Mon Apr 06 22:19:49 PDT 2009</td>\n",
       "      <td>NO_QUERY</td>\n",
       "      <td>scotthamilton</td>\n",
       "      <td>is upset that he can't update his Facebook by ...</td>\n",
       "    </tr>\n",
       "    <tr>\n",
       "      <th>2</th>\n",
       "      <td>0</td>\n",
       "      <td>1467810917</td>\n",
       "      <td>Mon Apr 06 22:19:53 PDT 2009</td>\n",
       "      <td>NO_QUERY</td>\n",
       "      <td>mattycus</td>\n",
       "      <td>@Kenichan I dived many times for the ball. Man...</td>\n",
       "    </tr>\n",
       "    <tr>\n",
       "      <th>3</th>\n",
       "      <td>0</td>\n",
       "      <td>1467811184</td>\n",
       "      <td>Mon Apr 06 22:19:57 PDT 2009</td>\n",
       "      <td>NO_QUERY</td>\n",
       "      <td>ElleCTF</td>\n",
       "      <td>my whole body feels itchy and like its on fire</td>\n",
       "    </tr>\n",
       "    <tr>\n",
       "      <th>4</th>\n",
       "      <td>0</td>\n",
       "      <td>1467811193</td>\n",
       "      <td>Mon Apr 06 22:19:57 PDT 2009</td>\n",
       "      <td>NO_QUERY</td>\n",
       "      <td>Karoli</td>\n",
       "      <td>@nationwideclass no, it's not behaving at all....</td>\n",
       "    </tr>\n",
       "  </tbody>\n",
       "</table>\n",
       "</div>"
      ],
      "text/plain": [
       "   target          id                          date      flag  \\\n",
       "0       0  1467810369  Mon Apr 06 22:19:45 PDT 2009  NO_QUERY   \n",
       "1       0  1467810672  Mon Apr 06 22:19:49 PDT 2009  NO_QUERY   \n",
       "2       0  1467810917  Mon Apr 06 22:19:53 PDT 2009  NO_QUERY   \n",
       "3       0  1467811184  Mon Apr 06 22:19:57 PDT 2009  NO_QUERY   \n",
       "4       0  1467811193  Mon Apr 06 22:19:57 PDT 2009  NO_QUERY   \n",
       "\n",
       "              user                                               text  \n",
       "0  _TheSpecialOne_  @switchfoot http://twitpic.com/2y1zl - Awww, t...  \n",
       "1    scotthamilton  is upset that he can't update his Facebook by ...  \n",
       "2         mattycus  @Kenichan I dived many times for the ball. Man...  \n",
       "3          ElleCTF    my whole body feels itchy and like its on fire   \n",
       "4           Karoli  @nationwideclass no, it's not behaving at all....  "
      ]
     },
     "execution_count": 5,
     "metadata": {},
     "output_type": "execute_result"
    }
   ],
   "source": [
    "import pandas as pd\n",
    "\n",
    "# Load dataset\n",
    "file_path = \"../data/raw/training.1600000.processed.noemoticon.csv\"\n",
    "column_names = [\"target\", \"id\", \"date\", \"flag\", \"user\", \"text\"]\n",
    "data = pd.read_csv(file_path, encoding='latin-1', names=column_names)\n",
    "\n",
    "# Display the first few rows\n",
    "data.head()\n"
   ]
  },
  {
   "cell_type": "markdown",
   "id": "5eea1a4c",
   "metadata": {},
   "source": [
    "Check dataset size, column names, and types"
   ]
  },
  {
   "cell_type": "code",
   "execution_count": 6,
   "id": "d5f755a4",
   "metadata": {},
   "outputs": [
    {
     "name": "stdout",
     "output_type": "stream",
     "text": [
      "<class 'pandas.core.frame.DataFrame'>\n",
      "RangeIndex: 1600000 entries, 0 to 1599999\n",
      "Data columns (total 6 columns):\n",
      " #   Column  Non-Null Count    Dtype \n",
      "---  ------  --------------    ----- \n",
      " 0   target  1600000 non-null  int64 \n",
      " 1   id      1600000 non-null  int64 \n",
      " 2   date    1600000 non-null  object\n",
      " 3   flag    1600000 non-null  object\n",
      " 4   user    1600000 non-null  object\n",
      " 5   text    1600000 non-null  object\n",
      "dtypes: int64(2), object(4)\n",
      "memory usage: 73.2+ MB\n",
      "             target            id\n",
      "count  1.600000e+06  1.600000e+06\n",
      "mean   2.000000e+00  1.998818e+09\n",
      "std    2.000001e+00  1.935761e+08\n",
      "min    0.000000e+00  1.467810e+09\n",
      "25%    0.000000e+00  1.956916e+09\n",
      "50%    2.000000e+00  2.002102e+09\n",
      "75%    4.000000e+00  2.177059e+09\n",
      "max    4.000000e+00  2.329206e+09\n"
     ]
    }
   ],
   "source": [
    "data.info()\n",
    "print(data.describe())"
   ]
  },
  {
   "cell_type": "markdown",
   "id": "259bd5b3",
   "metadata": {},
   "source": [
    "Inspect missing values"
   ]
  },
  {
   "cell_type": "code",
   "execution_count": 7,
   "id": "6eef1ef8",
   "metadata": {},
   "outputs": [
    {
     "data": {
      "text/plain": [
       "target    0\n",
       "id        0\n",
       "date      0\n",
       "flag      0\n",
       "user      0\n",
       "text      0\n",
       "dtype: int64"
      ]
     },
     "execution_count": 7,
     "metadata": {},
     "output_type": "execute_result"
    }
   ],
   "source": [
    "data.isnull().sum()"
   ]
  },
  {
   "cell_type": "markdown",
   "id": "e55c2ccd",
   "metadata": {},
   "source": [
    "Visualize Sentiment Distribution"
   ]
  },
  {
   "cell_type": "code",
   "execution_count": 9,
   "id": "57da7299",
   "metadata": {},
   "outputs": [
    {
     "name": "stderr",
     "output_type": "stream",
     "text": [
      "C:\\Users\\hatoui\\AppData\\Local\\Temp\\ipykernel_14000\\2436165448.py:9: FutureWarning: \n",
      "\n",
      "Passing `palette` without assigning `hue` is deprecated and will be removed in v0.14.0. Assign the `x` variable to `hue` and set `legend=False` for the same effect.\n",
      "\n",
      "  sns.countplot(data=data, x=\"sentiment\", palette=\"coolwarm\")\n"
     ]
    },
    {
     "data": {
      "image/png": "[encoded data removed]",
      "text/plain": [
       "<Figure size 640x480 with 1 Axes>"
      ]
     },
     "metadata": {},
     "output_type": "display_data"
    }
   ],
   "source": [
    "import matplotlib.pyplot as plt\n",
    "import seaborn as sns\n",
    "\n",
    "# Convert sentiment labels\n",
    "sentiment_map = {0: \"Negative\", 2: \"Neutral\", 4: \"Positive\"}\n",
    "data[\"sentiment\"] = data[\"target\"].map(sentiment_map)\n",
    "\n",
    "# Plot distribution\n",
    "sns.countplot(data=data, x=\"sentiment\", palette=\"coolwarm\")\n",
    "plt.title(\"Sentiment Distribution\")\n",
    "plt.show()\n"
   ]
  },
  {
   "cell_type": "markdown",
   "id": "36f2ea56",
   "metadata": {},
   "source": [
    "Inspect Tweet Text"
   ]
  },
  {
   "cell_type": "code",
   "execution_count": 10,
   "id": "b859294f",
   "metadata": {},
   "outputs": [
    {
     "name": "stdout",
     "output_type": "stream",
     "text": [
      "568504     @JDollin The drink of my childhood, basically....\n",
      "1186255    @BeateMacPack311 Ich habe es Ã¼brigens auch sc...\n",
      "816437     @souljaboytellem http://twitpic.com/3izgy - i ...\n",
      "1257870                   Home sweet home  I had a long day.\n",
      "938923     Did a good deed today, found a phone, owner ca...\n",
      "256213     @kimaglick  yeh...i'm still here petrifying......\n",
      "222999     wishes she could watch ANTM on oxygen while ea...\n",
      "1209162    @XXxWeHoLoVexXX Nothing's ever really sold out...\n",
      "1173723    Done with church. Partay at 12:30. Im gonna mi...\n",
      "450842     @latuacatante17 idk lol. my mom doesnt want to...\n",
      "Name: text, dtype: object\n"
     ]
    }
   ],
   "source": [
    "print(data[\"text\"].sample(10))"
   ]
  },
  {
   "cell_type": "markdown",
   "id": "246ee14d",
   "metadata": {},
   "source": [
    "Check for Imbalanced Data"
   ]
  },
  {
   "cell_type": "code",
   "execution_count": 11,
   "id": "5892ccf2",
   "metadata": {},
   "outputs": [
    {
     "name": "stdout",
     "output_type": "stream",
     "text": [
      "sentiment\n",
      "Negative    800000\n",
      "Positive    800000\n",
      "Name: count, dtype: int64\n"
     ]
    }
   ],
   "source": [
    "print(data[\"sentiment\"].value_counts())"
   ]
  },
  {
   "cell_type": "markdown",
   "id": "1910c947",
   "metadata": {},
   "source": [
    "Clean Up Data"
   ]
  },
  {
   "cell_type": "code",
   "execution_count": 12,
   "id": "84cec7a7",
   "metadata": {},
   "outputs": [
    {
     "name": "stdout",
     "output_type": "stream",
     "text": [
      "Cleaned dataset size: (1581466, 7)\n"
     ]
    }
   ],
   "source": [
    "# Remove duplicates\n",
    "data = data.drop_duplicates(subset=\"text\")\n",
    "\n",
    "# Remove neutral sentiments if imbalanced\n",
    "data = data[data[\"sentiment\"] != \"Neutral\"]\n",
    "\n",
    "print(\"Cleaned dataset size:\", data.shape)\n"
   ]
  },
  {
   "cell_type": "markdown",
   "id": "f2537ecb",
   "metadata": {},
   "source": [
    "Save processed data"
   ]
  },
  {
   "cell_type": "code",
   "execution_count": 13,
   "id": "23e46bad",
   "metadata": {},
   "outputs": [],
   "source": [
    "processed_file_path = \"../data/processed/cleaned_sentiment140.csv\"\n",
    "data.to_csv(processed_file_path, index=False)\n"
   ]
  }
 ],
 "metadata": {
  "kernelspec": {
   "display_name": "venv",
   "language": "python",
   "name": "python3"
  },
  "language_info": {
   "codemirror_mode": {
    "name": "ipython",
    "version": 3
   },
   "file_extension": ".py",
   "mimetype": "text/x-python",
   "name": "python",
   "nbconvert_exporter": "python",
   "pygments_lexer": "ipython3",
   "version": "3.10.0"
  }
 },
 "nbformat": 4,
 "nbformat_minor": 5
}
